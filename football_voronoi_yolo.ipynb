{
  "cells": [
    {
      "cell_type": "markdown",
      "metadata": {
        "id": "view-in-github",
        "colab_type": "text"
      },
      "source": [
        "<a href=\"https://colab.research.google.com/github/cakebuildcom/AI-basketball-analysis/blob/master/football_voronoi_yolo.ipynb\" target=\"_parent\"><img src=\"https://colab.research.google.com/assets/colab-badge.svg\" alt=\"Open In Colab\"/></a>"
      ]
    },
    {
      "cell_type": "code",
      "execution_count": 1,
      "metadata": {
        "colab": {
          "base_uri": "https://localhost:8080/"
        },
        "id": "fwDGo4c0QnYL",
        "outputId": "176ce985-e787-47a8-9c5c-78e67af8bb0a"
      },
      "outputs": [
        {
          "output_type": "stream",
          "name": "stdout",
          "text": [
            "✅ Extracted 0 frames to 'frames'\n"
          ]
        }
      ],
      "source": [
        "import cv2\n",
        "import os\n",
        "\n",
        "video_path = \"/content/(672) FULL MATCH _ Manchester United v Liverpool _ Quarter-final _ Emirates FA Cup 2023-24 - YouTube - Google Chrome 2025-02-22 11-14-07.mp4\"  # Update this\n",
        "frame_folder = \"frames\"\n",
        "\n",
        "# Create folder if not exists\n",
        "os.makedirs(frame_folder, exist_ok=True)\n",
        "\n",
        "# Open video\n",
        "cap = cv2.VideoCapture(video_path)\n",
        "frame_count = 0\n",
        "success, frame = cap.read()\n",
        "\n",
        "while success:\n",
        "    frame_path = os.path.join(frame_folder, f\"frame_{frame_count}.jpg\")\n",
        "    cv2.imwrite(frame_path, frame)  # Save frame\n",
        "    frame_count += 1\n",
        "    success, frame = cap.read()  # Read next frame\n",
        "\n",
        "cap.release()\n",
        "print(f\"✅ Extracted {frame_count} frames to '{frame_folder}'\")\n"
      ]
    },
    {
      "cell_type": "code",
      "source": [
        "import os\n",
        "\n",
        "frame_folder = \"frames\"\n",
        "\n",
        "# Sort numerically instead of lexicographically\n",
        "frame_files = sorted(os.listdir(frame_folder), key=lambda x: int(x.split(\"_\")[1].split(\".\")[0]))[:5]\n",
        "\n",
        "print(\"First 5 frames (correctly sorted):\", frame_files)\n"
      ],
      "metadata": {
        "colab": {
          "base_uri": "https://localhost:8080/"
        },
        "id": "_hMWYXAwUAtm",
        "outputId": "a7ea94bc-4b53-4c3c-858d-437f8bc23e06"
      },
      "execution_count": 2,
      "outputs": [
        {
          "output_type": "stream",
          "name": "stdout",
          "text": [
            "First 5 frames (correctly sorted): []\n"
          ]
        }
      ]
    },
    {
      "cell_type": "code",
      "source": [
        "import cv2\n",
        "import os\n",
        "import matplotlib.pyplot as plt\n",
        "\n",
        "frame_folder = \"frames\"\n",
        "\n",
        "# Get first frame path\n",
        "frame_files = sorted(os.listdir(frame_folder), key=lambda x: int(x.split(\"_\")[1].split(\".\")[0]))\n",
        "frame_path = os.path.join(frame_folder, frame_files[0])  # First frame\n",
        "\n",
        "# Read image\n",
        "frame = cv2.imread(frame_path)\n",
        "\n",
        "# Check if the frame is loaded\n",
        "if frame is None:\n",
        "    print(\"Error: Frame not loaded!\")\n",
        "else:\n",
        "    # Convert BGR to RGB\n",
        "    frame = cv2.cvtColor(frame, cv2.COLOR_BGR2RGB)\n",
        "\n",
        "    # Display image\n",
        "    plt.imshow(frame)\n",
        "    plt.axis(\"off\")  # Hide axes\n",
        "    plt.show()\n"
      ],
      "metadata": {
        "id": "2m6PTfBWUHgn",
        "outputId": "46cd4d67-6e2c-49f1-a3b7-9f1520f367a7",
        "colab": {
          "base_uri": "https://localhost:8080/",
          "height": 211
        }
      },
      "execution_count": 3,
      "outputs": [
        {
          "output_type": "error",
          "ename": "IndexError",
          "evalue": "list index out of range",
          "traceback": [
            "\u001b[0;31m---------------------------------------------------------------------------\u001b[0m",
            "\u001b[0;31mIndexError\u001b[0m                                Traceback (most recent call last)",
            "\u001b[0;32m<ipython-input-3-3eaf64071573>\u001b[0m in \u001b[0;36m<cell line: 0>\u001b[0;34m()\u001b[0m\n\u001b[1;32m      7\u001b[0m \u001b[0;31m# Get first frame path\u001b[0m\u001b[0;34m\u001b[0m\u001b[0;34m\u001b[0m\u001b[0m\n\u001b[1;32m      8\u001b[0m \u001b[0mframe_files\u001b[0m \u001b[0;34m=\u001b[0m \u001b[0msorted\u001b[0m\u001b[0;34m(\u001b[0m\u001b[0mos\u001b[0m\u001b[0;34m.\u001b[0m\u001b[0mlistdir\u001b[0m\u001b[0;34m(\u001b[0m\u001b[0mframe_folder\u001b[0m\u001b[0;34m)\u001b[0m\u001b[0;34m,\u001b[0m \u001b[0mkey\u001b[0m\u001b[0;34m=\u001b[0m\u001b[0;32mlambda\u001b[0m \u001b[0mx\u001b[0m\u001b[0;34m:\u001b[0m \u001b[0mint\u001b[0m\u001b[0;34m(\u001b[0m\u001b[0mx\u001b[0m\u001b[0;34m.\u001b[0m\u001b[0msplit\u001b[0m\u001b[0;34m(\u001b[0m\u001b[0;34m\"_\"\u001b[0m\u001b[0;34m)\u001b[0m\u001b[0;34m[\u001b[0m\u001b[0;36m1\u001b[0m\u001b[0;34m]\u001b[0m\u001b[0;34m.\u001b[0m\u001b[0msplit\u001b[0m\u001b[0;34m(\u001b[0m\u001b[0;34m\".\"\u001b[0m\u001b[0;34m)\u001b[0m\u001b[0;34m[\u001b[0m\u001b[0;36m0\u001b[0m\u001b[0;34m]\u001b[0m\u001b[0;34m)\u001b[0m\u001b[0;34m)\u001b[0m\u001b[0;34m\u001b[0m\u001b[0;34m\u001b[0m\u001b[0m\n\u001b[0;32m----> 9\u001b[0;31m \u001b[0mframe_path\u001b[0m \u001b[0;34m=\u001b[0m \u001b[0mos\u001b[0m\u001b[0;34m.\u001b[0m\u001b[0mpath\u001b[0m\u001b[0;34m.\u001b[0m\u001b[0mjoin\u001b[0m\u001b[0;34m(\u001b[0m\u001b[0mframe_folder\u001b[0m\u001b[0;34m,\u001b[0m \u001b[0mframe_files\u001b[0m\u001b[0;34m[\u001b[0m\u001b[0;36m0\u001b[0m\u001b[0;34m]\u001b[0m\u001b[0;34m)\u001b[0m  \u001b[0;31m# First frame\u001b[0m\u001b[0;34m\u001b[0m\u001b[0;34m\u001b[0m\u001b[0m\n\u001b[0m\u001b[1;32m     10\u001b[0m \u001b[0;34m\u001b[0m\u001b[0m\n\u001b[1;32m     11\u001b[0m \u001b[0;31m# Read image\u001b[0m\u001b[0;34m\u001b[0m\u001b[0;34m\u001b[0m\u001b[0m\n",
            "\u001b[0;31mIndexError\u001b[0m: list index out of range"
          ]
        }
      ]
    },
    {
      "cell_type": "code",
      "source": [
        "from google.colab import drive\n",
        "drive.mount('/content/drive')"
      ],
      "metadata": {
        "id": "CP1kQFqEnDaJ"
      },
      "execution_count": null,
      "outputs": []
    },
    {
      "cell_type": "code",
      "source": [
        "import cv2\n",
        "import matplotlib.pyplot as plt\n",
        "\n",
        "frame = cv2.imread(\"/content/frames/frame_0.jpg\")\n",
        "frame = cv2.cvtColor(frame, cv2.COLOR_BGR2RGB)\n",
        "\n",
        "plt.imshow(frame)\n",
        "plt.axis(\"off\")\n",
        "plt.show()\n"
      ],
      "metadata": {
        "id": "BvvlkWWiUaEe"
      },
      "execution_count": null,
      "outputs": []
    },
    {
      "cell_type": "code",
      "source": [
        "import torch\n",
        "import cv2\n",
        "\n",
        "model = torch.hub.load(\"ultralytics/yolov5\", \"yolov5s\")  # Load YOLOv5 small model\n",
        "\n",
        "frame = cv2.imread(\"/content/frames/frame_0.jpg\")\n",
        "\n",
        "   # Check if the frame is loaded\n",
        "if frame is None:\n",
        "       print(\"Error: Frame not loaded! Check file path.\")\n",
        "else:\n",
        "       results = model(frame)  # Run YOLO on a sample frame\n",
        "       results.show()  # Show the detections"
      ],
      "metadata": {
        "id": "U91UwfGdUnBV"
      },
      "execution_count": null,
      "outputs": []
    },
    {
      "cell_type": "code",
      "source": [
        "import numpy as np\n",
        "import matplotlib.pyplot as plt\n",
        "from scipy.spatial import Voronoi, voronoi_plot_2d\n",
        "\n",
        "# Example Player Coordinates\n",
        "players = np.array([[100, 200], [400, 250], [500, 500], [700, 100]])\n",
        "\n",
        "# Compute Voronoi Diagram\n",
        "vor = Voronoi(players)\n",
        "\n",
        "# Plot Voronoi on Image\n",
        "fig, ax = plt.subplots()\n",
        "voronoi_plot_2d(vor, ax=ax)\n",
        "plt.show()\n"
      ],
      "metadata": {
        "id": "bwJz1sURVAg9"
      },
      "execution_count": null,
      "outputs": []
    },
    {
      "cell_type": "code",
      "source": [
        "import cv2\n",
        "import numpy as np\n",
        "import os\n",
        "from scipy.spatial import Voronoi, voronoi_plot_2d\n",
        "\n",
        "# Load YOLO model\n",
        "from ultralytics import YOLO\n",
        "model = YOLO(\"yolov5s.pt\")  # Pre-trained YOLOv5 model\n",
        "\n",
        "def draw_voronoi(frame, players):\n",
        "    \"\"\"Draws the Voronoi diagram on the frame.\"\"\"\n",
        "    if len(players) < 4:  # Need at least 4 points for Voronoi in 2D\n",
        "        return frame  # Return original frame if not enough players\n",
        "\n",
        "    vor = Voronoi(players)\n",
        "\n",
        "    # Create a copy of the frame to draw on\n",
        "    frame_voronoi = frame.copy()\n",
        "\n",
        "    # Draw Voronoi regions (you can customize colors, line thickness, etc.)\n",
        "    for region in vor.regions:\n",
        "        if not -1 in region and len(region) > 0:\n",
        "            polygon = [vor.vertices[i] for i in region]\n",
        "            polygon = np.array(polygon, np.int32)\n",
        "            cv2.polylines(frame_voronoi, [polygon], True, (0, 255, 0), 2)\n",
        "\n",
        "    return frame_voronoi\n",
        "\n",
        "# Create output folder if not exists\n",
        "output_folder = \"processed_frames\"  # You might want to change this\n",
        "os.makedirs(output_folder, exist_ok=True)\n",
        "\n",
        "# Process Frames\n",
        "frame_folder = \"frames\"  # Make sure this is correct\n",
        "frame_files = sorted(os.listdir(frame_folder))\n",
        "for frame_file in frame_files:\n",
        "    frame_path = os.path.join(frame_folder, frame_file)\n",
        "    frame = cv2.imread(frame_path)\n",
        "\n",
        "    if frame is None:\n",
        "        continue\n",
        "\n",
        "    # YOLO object detection\n",
        "    results = model(frame)  # Run YOLO on frame\n",
        "\n",
        "    players = []\n",
        "\n",
        "    for det in results[0].boxes:  # Extract bounding boxes correctly\n",
        "        x1, y1, x2, y2 = det.xyxy[0].cpu().numpy()  # Extract box coordinates\n",
        "        cls = int(det.cls[0].cpu().numpy())  # Extract class ID\n",
        "\n",
        "        if cls == 0:  # Class 0 = 'person' in COCO dataset\n",
        "            cx, cy = int((x1 + x2) / 2), int((y1 + y2) / 2)\n",
        "            players.append((cx, cy))\n",
        "\n",
        "    # Draw Voronoi\n",
        "    frame_voronoi = draw_voronoi(frame, players)\n",
        "\n",
        "    # Save processed frame\n",
        "    output_path = os.path.join(output_folder, frame_file)\n",
        "    cv2.imwrite(output_path, frame_voronoi)\n",
        "\n",
        "print(\"✅ Voronoi overlay completed on all frames!\")"
      ],
      "metadata": {
        "id": "nu-A73pYVZgE",
        "collapsed": true
      },
      "execution_count": null,
      "outputs": []
    },
    {
      "cell_type": "code",
      "source": [
        "import cv2\n",
        "import os\n",
        "\n",
        "frame_folder = \"processed_frames\"  # Folder containing processed frames\n",
        "output_video = \"output.mp4\"  # Final video file\n",
        "fps = 30  # Adjust based on original video\n",
        "\n",
        "# Get frame list and sort numerically\n",
        "frames = sorted([f for f in os.listdir(frame_folder) if f.endswith(\".jpg\")], key=lambda x: int(x.split(\"_\")[1].split(\".\")[0]))\n",
        "\n",
        "# Read the first frame to get dimensions\n",
        "first_frame = cv2.imread(os.path.join(frame_folder, frames[0]))\n",
        "height, width, _ = first_frame.shape\n",
        "\n",
        "# Define video writer\n",
        "fourcc = cv2.VideoWriter_fourcc(*\"mp4v\")  # Codec\n",
        "video_writer = cv2.VideoWriter(output_video, fourcc, fps, (width, height))\n",
        "\n",
        "# Write frames to video\n",
        "for frame in frames:\n",
        "    img = cv2.imread(os.path.join(frame_folder, frame))\n",
        "    video_writer.write(img)\n",
        "\n",
        "video_writer.release()\n",
        "cv2.destroyAllWindows()\n",
        "\n",
        "print(\"✅ Video saved as:\", output_video)\n"
      ],
      "metadata": {
        "id": "gaMTe5Rna9Zb"
      },
      "execution_count": null,
      "outputs": []
    },
    {
      "cell_type": "code",
      "source": [
        "import cv2\n",
        "\n",
        "video_path = \"output.mp4\"\n",
        "cap = cv2.VideoCapture(video_path)\n",
        "\n",
        "fps = cap.get(cv2.CAP_PROP_FPS)\n",
        "width = int(cap.get(cv2.CAP_PROP_FRAME_WIDTH))\n",
        "height = int(cap.get(cv2.CAP_PROP_FRAME_HEIGHT))\n",
        "\n",
        "print(f\"FPS: {fps}, Resolution: {width}x{height}\")\n",
        "\n",
        "cap.release()\n",
        "\n"
      ],
      "metadata": {
        "id": "LdBKfn9peJHX"
      },
      "execution_count": null,
      "outputs": []
    },
    {
      "cell_type": "code",
      "source": [
        "import cv2\n",
        "\n",
        "cap = cv2.VideoCapture(\"output.mp4\")\n",
        "fourcc = cv2.VideoWriter_fourcc(*\"mp4v\")\n",
        "out = cv2.VideoWriter(\"heatmap_output.mp4\", fourcc, cap.get(cv2.CAP_PROP_FPS), (int(cap.get(3)), int(cap.get(4))))\n",
        "\n",
        "while cap.isOpened():\n",
        "    ret, frame = cap.read()\n",
        "    if not ret:\n",
        "        break\n",
        "    heatmap = cv2.applyColorMap(frame, cv2.COLORMAP_JET)\n",
        "    out.write(heatmap)\n",
        "\n",
        "cap.release()\n",
        "out.release()\n",
        "cv2.destroyAllWindows()\n",
        "\n"
      ],
      "metadata": {
        "id": "QOyHJOMHeLeE"
      },
      "execution_count": null,
      "outputs": []
    },
    {
      "cell_type": "code",
      "source": [
        "!git clone https://github.com/ultralytics/yolov5.git\n",
        "%cd yolov5\n",
        "!pip install -r requirements.txt\n"
      ],
      "metadata": {
        "collapsed": true,
        "id": "1sLJau2Th2mu"
      },
      "execution_count": null,
      "outputs": []
    },
    {
      "cell_type": "code",
      "source": [
        "from google.colab import files\n",
        "\n",
        "uploaded = files.upload()  # Manually upload your file\n"
      ],
      "metadata": {
        "id": "PxTwyBxSjclU"
      },
      "execution_count": null,
      "outputs": []
    },
    {
      "cell_type": "code",
      "source": [
        "!mv \"/content/output.mp4\" \"/content/yolov5/voronoi_output.mp4\"\n"
      ],
      "metadata": {
        "id": "qzxacsSN6cA2"
      },
      "execution_count": null,
      "outputs": []
    },
    {
      "cell_type": "code",
      "source": [
        "!ls /content/\n"
      ],
      "metadata": {
        "id": "2yJ4l-Yd7qeo"
      },
      "execution_count": null,
      "outputs": []
    },
    {
      "cell_type": "code",
      "source": [
        "!git clone https://github.com/ultralytics/yolov5.git\n"
      ],
      "metadata": {
        "id": "rPohQDZp7sY_"
      },
      "execution_count": null,
      "outputs": []
    },
    {
      "cell_type": "code",
      "source": [
        "%cd /content/yolov5\n"
      ],
      "metadata": {
        "id": "JTLfuTYm9Usg"
      },
      "execution_count": null,
      "outputs": []
    },
    {
      "cell_type": "code",
      "source": [
        "!python detect.py --source voronoi_output.mp4 --weights yolov5s.pt --conf 0.4 --save-txt --save-conf --save-crop\n"
      ],
      "metadata": {
        "collapsed": true,
        "id": "wt_JJXxi9WCW"
      },
      "execution_count": null,
      "outputs": []
    },
    {
      "cell_type": "code",
      "source": [
        "from IPython.display import display, HTML\n",
        "\n",
        "video_path = \"runs/detect/exp/voronoi_output.mp4\"  # Update path if different\n",
        "display(HTML(f'<video width=\"800\" controls><source src=\"{video_path}\" type=\"video/mp4\"></video>'))\n"
      ],
      "metadata": {
        "id": "HJMozYU7Imi1"
      },
      "execution_count": null,
      "outputs": []
    },
    {
      "cell_type": "code",
      "source": [
        "from google.colab import files\n",
        "files.download(\"runs/detect/exp/voronoi_output.mp4\")  # Update with correct path if needed\n"
      ],
      "metadata": {
        "id": "eK45aGwLJcW-"
      },
      "execution_count": null,
      "outputs": []
    },
    {
      "cell_type": "code",
      "source": [
        "import os\n",
        "import pandas as pd\n",
        "\n",
        "# Path where YOLO detections are saved\n",
        "detections_path = \"runs/detect/exp/labels/\"\n",
        "\n",
        "# Read all detection files\n",
        "data = []\n",
        "for file in os.listdir(detections_path):\n",
        "    # Extract frame ID by splitting the filename and taking the last part\n",
        "    frame_id = int(file.split('_')[-1].replace(\".txt\", \"\"))  # Split by '_' and take the last element\n",
        "    with open(os.path.join(detections_path, file), \"r\") as f:\n",
        "        for line in f.readlines():\n",
        "            values = line.strip().split()\n",
        "            class_id, x, y, w, h, conf = map(float, values)  # YOLO format\n",
        "            data.append([frame_id, class_id, x, y, conf])\n",
        "\n",
        "# Convert to DataFrame\n",
        "df = pd.DataFrame(data, columns=[\"Frame\", \"ClassID\", \"X\", \"Y\", \"Confidence\"])\n",
        "df.to_csv(\"player_positions.csv\", index=False)\n",
        "print(\"Saved player positions to player_positions.csv\")"
      ],
      "metadata": {
        "id": "Rd5BE3h3K5-i"
      },
      "execution_count": null,
      "outputs": []
    }
  ],
  "metadata": {
    "colab": {
      "provenance": [],
      "include_colab_link": true
    },
    "kernelspec": {
      "display_name": "Python 3",
      "name": "python3"
    },
    "language_info": {
      "name": "python"
    }
  },
  "nbformat": 4,
  "nbformat_minor": 0
}